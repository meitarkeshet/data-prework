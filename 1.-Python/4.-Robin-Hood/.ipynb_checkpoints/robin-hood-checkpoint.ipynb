{
 "cells": [
  {
   "cell_type": "markdown",
   "metadata": {},
   "source": [
    "<img src=\"https://bit.ly/2VnXWr2\" width=\"100\" align=\"left\"/>"
   ]
  },
  {
   "cell_type": "markdown",
   "metadata": {},
   "source": [
    "# Robin Hood\n",
    "Robin Hood has entered a competition to win the archery contest in Sherwood. With his bow and arrows, he needs to shoot on a target and try to hit as close as possible to the center.\n",
    "\n",
    "![](images/arrows.jpg)\n",
    "\n",
    "## Context\n",
    "In this challenge, the landing position of arrows shot by archers in the competition will be represented using 2-dimensional coordinates. \n",
    "\n",
    "In the 2-dimensional space, a point can be defined by a pair of values that correspond to the horizontal coordinate (x) and the vertical coordinate (y). For example, in our case, an arrow that hits the center of the archery target will land in position (0, 0) on the coordinate axes. \n",
    "\n",
    "The space can be divided into 4 zones (quadrants): Q1, Q2, Q3, Q4. If a point is in Q1, both its x coordinate and y coordinate are positive. Any point with a null x or y coordinate is considered to not belong to any quadrant. \n",
    "\n",
    "If you want to know more about the cartesian coordinate system, you can check this [link](https://en.wikipedia.org/wiki/Cartesian_coordinate_system). \n",
    "\n",
    "## Tools\n",
    "You don't necessarily need to use all the tools. Maybe you opt to use some of them or completely different ones, they are given to help you shape the exercise. Programming exercises can be solved in many different ways.\n",
    "* Data structures: **lists, sets, tuples**\n",
    "* Conditional statements: **if-elif-else**\n",
    "* Loop: **while/for**\n",
    "* Minimum (optional sorting)\n",
    "\n",
    "## Tasks\n",
    "Robin Hood has hit the following points:"
   ]
  },
  {
   "cell_type": "code",
   "execution_count": 1,
   "metadata": {},
   "outputs": [],
   "source": [
    "points = [(4, 5), (-0, 2), (4, 7), (1, -3), (3, -2), (4, 5), (3, 2), (5, 7), (-5, 7), (2, 2), (-4, 5), (0, -2),\n",
    "          (-4, 7), (-1, 3), (-3, 2), (-4, -5), (-3, 2), (5, 7), (5, 7), (2, 2), (9, 9), (-8, -9)]"
   ]
  },
  {
   "cell_type": "markdown",
   "metadata": {},
   "source": [
    "#### 1. Robin Hood is famous for hitting an arrow with another arrow. Find the coordinates of the points where an arrow hits another arrow."
   ]
  },
  {
   "cell_type": "code",
   "execution_count": 2,
   "metadata": {},
   "outputs": [
    {
     "name": "stdout",
     "output_type": "stream",
     "text": [
      "Let's first arrange our points:  [(-8, -9), (-5, 7), (-4, -5), (-4, 5), (-4, 7), (-3, 2), (-3, 2), (-1, 3), (0, -2), (0, 2), (1, -3), (2, 2), (2, 2), (3, -2), (3, 2), (4, 5), (4, 5), (4, 7), (5, 7), (5, 7), (5, 7), (9, 9)]\n",
      "There's an arrow in arrow in the following coordinates:  [(-3, 2), (2, 2), (4, 5), (5, 7)]\n"
     ]
    }
   ],
   "source": [
    "dup_sort = points\n",
    "dup_sort.sort()\n",
    "print(\"Let's first arrange our points: \", dup_sort)\n",
    "\n",
    "# create an empty list for where an arrow hits another arrow\n",
    "doubles = []\n",
    "x = 1\n",
    "\n",
    "#print(\"new lines\", dup_sort[x])\n",
    "\n",
    "#add first case\n",
    "\n",
    "#dup_sort = list dup_sort\n",
    "\n",
    "while x < len(dup_sort):\n",
    "    if dup_sort[x] == dup_sort[x - 1] and dup_sort[x] not in doubles:\n",
    "        doubles.append(dup_sort[x])\n",
    "    x += 1\n",
    "print(\"There's an arrow in arrow in the following coordinates: \", doubles)\n"
   ]
  },
  {
   "cell_type": "markdown",
   "metadata": {},
   "source": [
    "#### 2. Calculate how many arrows have fallen in each quadrant. \n",
    "**Note**: the arrows that fall in the axis (x=0 or y=0) don't belong to any quadrant."
   ]
  },
  {
   "cell_type": "code",
   "execution_count": 3,
   "metadata": {},
   "outputs": [
    {
     "name": "stdout",
     "output_type": "stream",
     "text": [
      "cleaned list:  [(-8, -9), (-5, 7), (-4, -5), (-4, 5), (-4, 7), (-3, 2), (-3, 2), (-1, 3), (1, -3), (2, 2), (2, 2), (3, -2), (3, 2), (4, 5), (4, 5), (4, 7), (5, 7), (5, 7), (5, 7), (9, 9)]\n",
      "10 arrows fell in the first quadrent.\n",
      "Their cordinates are:  [(2, 2), (2, 2), (3, 2), (4, 5), (4, 5), (4, 7), (5, 7), (5, 7), (5, 7), (9, 9)]\n",
      "2 arrows fell in the second quadrent.\n",
      "Their cordinates are:  [(1, -3), (3, -2)]\n",
      "2 arrows fell in the third quadrent.\n",
      "Their cordinates are:  [(-8, -9), (-4, -5)]\n",
      "6 arrows fell in the fourth quadrent.\n",
      "Their cordinates are:  [(-5, 7), (-4, 5), (-4, 7), (-3, 2), (-3, 2), (-1, 3)]\n"
     ]
    }
   ],
   "source": [
    "# let's take out the arrows with x=0 or y=0\n",
    "\n",
    "all_fallen = []\n",
    "\n",
    "for pair in dup_sort:\n",
    "    (x, y) = pair\n",
    "    if x != 0 and y != 0:\n",
    "        all_fallen.append(pair)\n",
    "print(\"cleaned list: \", all_fallen)\n",
    "\n",
    "# now lets sort in quadrents\n",
    "# first, create empty lists (notice a,b,c = [] doesn't work because it points to the first value)\n",
    "\n",
    "Q1, Q2, Q3, Q4 = ([] for i in range(4))\n",
    "\n",
    "#print(Q1, \"show empty\")\n",
    "\n",
    "for pair in all_fallen:\n",
    "    (x, y) = pair\n",
    "    if x > 0 and y > 0:\n",
    "        Q1.append(pair)\n",
    "    elif x > 0 and y < 0:\n",
    "        Q2.append(pair)\n",
    "    elif x < 0 and y < 0:\n",
    "        Q3.append(pair)\n",
    "    elif x < 0 and y > 0:\n",
    "        Q4.append(pair)\n",
    "\n",
    "print(len(Q1), \"arrows fell in the first quadrent.\")\n",
    "print(\"Their cordinates are: \", Q1)\n",
    "print(len(Q2), \"arrows fell in the second quadrent.\")\n",
    "print(\"Their cordinates are: \", Q2)\n",
    "print(len(Q3), \"arrows fell in the third quadrent.\")\n",
    "print(\"Their cordinates are: \", Q3)\n",
    "print(len(Q4), \"arrows fell in the fourth quadrent.\")\n",
    "print(\"Their cordinates are: \", Q4)"
   ]
  },
  {
   "cell_type": "markdown",
   "metadata": {},
   "source": [
    "#### 3. Find the point closest to the center. Calculate its distance to the center. \n",
    "Take into account that there might be more than one point at the minimum distance to the center.\n",
    "\n",
    "**Hint**: Use the Euclidean distance. You can find more information about it [here](https://en.wikipedia.org/wiki/Euclidean_distance).  \n",
    "**Hint**: Defining a function that calculates the distance to the center can help."
   ]
  },
  {
   "cell_type": "code",
   "execution_count": 36,
   "metadata": {},
   "outputs": [
    {
     "name": "stdout",
     "output_type": "stream",
     "text": [
      "Let's sort and remove repeating values: \n",
      " [(-5, 7), (3, -2), (-4, 7), (9, 9), (3, 2), (0, -2), (5, 7), (0, 2), (4, 5), (-1, 3), (1, -3), (2, 2), (-3, 2), (-4, 5), (-8, -9), (-4, -5), (4, 7)]\n",
      "\n",
      "The closest points to center are: \n",
      "(0, -2)\n",
      "(0, 2)\n"
     ]
    }
   ],
   "source": [
    "import math \n",
    "\n",
    "def euc_dist( p1, p2):\n",
    "    xp1, yp1 = p1\n",
    "    xp2, yp2 = p2\n",
    "    #print (math.sqrt((xp1 - xp2)**2 + (yp1 - yp2)**2))\n",
    "    return (math.sqrt((xp1 - xp2)**2 + (yp1 - yp2)**2))\n",
    "\n",
    "# clean reapearing values\n",
    "\n",
    "dup_sort = points\n",
    "dup_sort.sort()\n",
    "dup_sort = set(dup_sort)\n",
    "\n",
    "# turn it back into list to make it workable\n",
    "dup_sort = list(dup_sort)\n",
    "\n",
    "print(\"Let's sort and remove repeating values: \\n\", dup_sort)\n",
    "\n",
    "# create closest variable \n",
    "closest = 500\n",
    "\n",
    "# create a list of distances \n",
    "dist_list = []\n",
    "\n",
    "center = (0, 0)\n",
    "\n",
    "i = 0\n",
    "while i < len(dup_sort):\n",
    "    temp_dist = euc_dist(center, dup_sort[i])\n",
    "    dist_list.append(temp_dist)\n",
    "    if temp_dist < closest:\n",
    "        closest = temp_dist\n",
    "    i += 1\n",
    "#print (closest)\n",
    "#print(dist_list)\n",
    "# this gives us the smallest value\n",
    "closest = min(dist_list) \n",
    "# let's consider that other point might have the same distance\n",
    "# so we need to find multiple indexes\n",
    "min_indexes = [i for i, x in enumerate(dist_list) if x == min(dist_list)]\n",
    "#print(min_indexes)\n",
    "\n",
    "print(\"\\nThe closest points to center are: \")\n",
    "for x in min_indexes:\n",
    "    print (dup_sort[x])"
   ]
  },
  {
   "cell_type": "markdown",
   "metadata": {},
   "source": [
    "#### 4. If the archery target has a radius of 9, calculate the number of arrows that won't hit the target. \n",
    "**Hint**: Use the function created in step 3. "
   ]
  },
  {
   "cell_type": "code",
   "execution_count": 45,
   "metadata": {},
   "outputs": [
    {
     "name": "stdout",
     "output_type": "stream",
     "text": [
      "The number of missed arrows is:  2\n"
     ]
    }
   ],
   "source": [
    "# create a variable for the num of arrows the won't hit the target \n",
    "missed = 0\n",
    "\n",
    "for i, x in enumerate(dist_list):\n",
    "   # print(i, x)\n",
    "    if x > 9:\n",
    "        missed += 1\n",
    "print(\"The number of missed arrows is: \", missed)"
   ]
  },
  {
   "cell_type": "code",
   "execution_count": null,
   "metadata": {},
   "outputs": [],
   "source": []
  }
 ],
 "metadata": {
  "kernelspec": {
   "display_name": "Python 3",
   "language": "python",
   "name": "python3"
  },
  "language_info": {
   "codemirror_mode": {
    "name": "ipython",
    "version": 3
   },
   "file_extension": ".py",
   "mimetype": "text/x-python",
   "name": "python",
   "nbconvert_exporter": "python",
   "pygments_lexer": "ipython3",
   "version": "3.8.3"
  }
 },
 "nbformat": 4,
 "nbformat_minor": 2
}
