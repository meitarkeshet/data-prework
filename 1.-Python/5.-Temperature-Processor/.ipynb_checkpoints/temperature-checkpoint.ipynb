{
 "cells": [
  {
   "cell_type": "markdown",
   "metadata": {},
   "source": [
    "<img src=\"https://bit.ly/2VnXWr2\" width=\"100\" align=\"left\">"
   ]
  },
  {
   "cell_type": "markdown",
   "metadata": {},
   "source": [
    "# Temperature Sensor\n",
    "\n",
    "There is a temperature sensor in the processor of your company's server. The company wants to analyze the data provided by the sensor to decide if they should change the cooling system for a better one. As changing the cooling system is expensive and you are an excellent data analyst, you can't make a decision without basis.\n",
    "\n",
    "## Tools\n",
    "You don't necessarily need to use all the tools. Maybe you opt to use some of them or completely different ones, they are given to help you shape the exercise. Programming exercises can be solved in many different ways.\n",
    "1. Data structures: **lists**\n",
    "2. Loops: **list comprehension**\n",
    "3. Functions: **min, max, print, len**\n",
    "4. Conditional statements: **if-elif-else**\n",
    "\n",
    "## Tasks\n",
    "The temperatures measured throughout the 24 hours of a day are:"
   ]
  },
  {
   "cell_type": "code",
   "execution_count": 2,
   "metadata": {},
   "outputs": [],
   "source": [
    "temperatures_C = [33, 66, 65, 0, 59, 60, 62, 64, 70, 76, 80, 81, 80, 83, 90, 79, 61, 53, 50, 49, 53, 48, 45, 39]"
   ]
  },
  {
   "cell_type": "markdown",
   "metadata": {},
   "source": [
    "The first element of the list is the temperature at 12am, the second element is the temperature at 1am, and so on. \n",
    "\n",
    "The company has decided that if one of the following events occurs, then the cooling system needs to be replaced for a new one to avoid damaging the processor.\n",
    "* More than 4 temperatures are greater than or equal to 70ºC.\n",
    "* Any temperature is above 80ºC.\n",
    "* The average temperature exceeds 65ºC.\n",
    "\n",
    "Follow the steps so that you can make the decision.\n",
    "\n",
    "#### 1. Find the minimum temperature of the day and store it in a variable."
   ]
  },
  {
   "cell_type": "code",
   "execution_count": 5,
   "metadata": {},
   "outputs": [
    {
     "name": "stdout",
     "output_type": "stream",
     "text": [
      "The lowest temperature of the day is:  0 ºC\n"
     ]
    }
   ],
   "source": [
    "min_temp = min(temperatures_C)\n",
    "print(\"The lowest temperature of the day is: \", min_temp,\"ºC\")"
   ]
  },
  {
   "cell_type": "markdown",
   "metadata": {},
   "source": [
    "#### 2. Find the maximum temperature of the day and store it in a variable."
   ]
  },
  {
   "cell_type": "code",
   "execution_count": 6,
   "metadata": {},
   "outputs": [
    {
     "name": "stdout",
     "output_type": "stream",
     "text": [
      "The heighest temperature of the day is:  90 ºC\n"
     ]
    }
   ],
   "source": [
    "max_temp = max(temperatures_C)\n",
    "print(\"The heighest temperature of the day is: \", max_temp,\"ºC\")"
   ]
  },
  {
   "cell_type": "markdown",
   "metadata": {},
   "source": [
    "#### 3. Create a list with the temperatures that are greater than or equal to 70ºC. Store it in a variable."
   ]
  },
  {
   "cell_type": "code",
   "execution_count": 8,
   "metadata": {},
   "outputs": [
    {
     "name": "stdout",
     "output_type": "stream",
     "text": [
      "[70, 76, 80, 81, 80, 83, 90, 79]\n"
     ]
    }
   ],
   "source": [
    "greater_70 = []\n",
    "for x in temperatures_C:\n",
    "    if x >= 70:\n",
    "        greater_70.append(x)\n",
    "#print(greater_70)"
   ]
  },
  {
   "cell_type": "markdown",
   "metadata": {},
   "source": [
    "#### 4. Find the average temperature of the day and store it in a variable."
   ]
  },
  {
   "cell_type": "code",
   "execution_count": 10,
   "metadata": {},
   "outputs": [
    {
     "name": "stdout",
     "output_type": "stream",
     "text": [
      "The avrage temperature of the day is:  60.25 ºC\n"
     ]
    }
   ],
   "source": [
    "import statistics \n",
    "avg_temp = statistics.mean(temperatures_C)\n",
    "print(\"The avrage temperature of the day is: \", avg_temp, \"ºC\")"
   ]
  },
  {
   "cell_type": "markdown",
   "metadata": {},
   "source": [
    "#### 5. Imagine that there was a sensor failure at 3am and the data for that specific hour was not recorded. How would you estimate the missing value? Replace the current value of the list at 3am for an estimation. "
   ]
  },
  {
   "cell_type": "code",
   "execution_count": 29,
   "metadata": {},
   "outputs": [
    {
     "name": "stdout",
     "output_type": "stream",
     "text": [
      "The estimated value is:  62\n",
      "So our new list becomes:  [33, 66, 65, 62, 59, 60, 62, 64, 70, 76, 80, 81, 80, 83, 90, 79, 61, 53, 50, 49, 53, 48, 45, 39]\n"
     ]
    }
   ],
   "source": [
    "# we can look at the avrage between the hours before and after\n",
    "tmp_diff = []\n",
    "i = 0\n",
    "while i < len(temperatures_C):\n",
    "    tmp_diff.append(temperatures_C[i] - temperatures_C[i - 1])\n",
    "    i += 1\n",
    "#print(temperatures_C)\n",
    "#print(tmp_diff)\n",
    "#print(statistics.median(tmp_diff))\n",
    "before_after = [65, 59]\n",
    "mean_before_after = statistics.mean(before_after)\n",
    "print(\"The estimated value is: \", mean_before_after)\n",
    "#replace the value\n",
    "temperatures_C[3] = mean_before_after\n",
    "print(\"So our new list becomes: \",temperatures_C)\n"
   ]
  },
  {
   "cell_type": "markdown",
   "metadata": {},
   "source": [
    "#### 6. Bonus: the maintenance staff is from the United States and does not understand the international metric system. Help them by converting the temperatures from Celsius to Fahrenheit.\n",
    "To know more about temperature conversion check this [link](https://en.wikipedia.org/wiki/Conversion_of_units_of_temperature).\n",
    "\n",
    "**Formula**: \n",
    "\n",
    "$F = 1.8 * C + 32$"
   ]
  },
  {
   "cell_type": "code",
   "execution_count": 32,
   "metadata": {},
   "outputs": [
    {
     "name": "stdout",
     "output_type": "stream",
     "text": [
      "For our American friends:  [91.4, 150.8, 149.0, 143.60000000000002, 138.2, 140.0, 143.60000000000002, 147.2, 158.0, 168.8, 176.0, 177.8, 176.0, 181.4, 194.0, 174.20000000000002, 141.8, 127.4, 122.0, 120.2, 127.4, 118.4, 113.0, 102.2]\n"
     ]
    }
   ],
   "source": [
    "fahrenheit_temp = []\n",
    "for x in temperatures_C:\n",
    "    fahrenheit_temp.append(1.8*x + 32)\n",
    "print(\"For our American friends: \", fahrenheit_temp)"
   ]
  },
  {
   "cell_type": "markdown",
   "metadata": {},
   "source": [
    "#### 7. Make a decision!\n",
    "Now it's time to make a decision taking into account what you have seen until now. \n",
    "\n",
    "Remember that if one of the following events occurs, then the cooling system needs to be replaced for a new one to avoid damaging the processor.\n",
    "* More than 4 temperatures are greater than or equal to 70ºC.\n",
    "* Any temperature is above 80ºC.\n",
    "* The average temperature exceeds 65ºC.\n",
    "\n",
    "#### To make your decision, check if any of the three conditions above is met. You might need to use some of the variables you created in steps 1 to 6. Print a message to show if the cooling system needs to be changed or not."
   ]
  },
  {
   "cell_type": "code",
   "execution_count": 42,
   "metadata": {},
   "outputs": [
    {
     "name": "stdout",
     "output_type": "stream",
     "text": [
      "Temp. by hour:  [33, 66, 65, 62, 59, 60, 62, 64, 70, 76, 80, 81, 80, 83, 90, 79, 61, 53, 50, 49, 53, 48, 45, 39]\n",
      "There are 8 cases of temperatures greater or eqaul to 70ºC\n",
      "Therefor, condition A is met (high_temp_counter > 4). \n",
      "The A.C needs to be changed.\n",
      "There are 3 cases of temperatures greater than 80ºC\n",
      "Therefor, condition B is met (high_temp_counter > 0). \n",
      "The A.C needs to be changed.\n",
      "The avrage temperature is:  62.833333333333336\n",
      "Therefor, condition C is NOT met (avg. temp > 65). \n",
      "However, The A.C still needs to be changed because of conditions A + B.\n"
     ]
    }
   ],
   "source": [
    "# let's look at the temp. values again\n",
    "print(\"Temp. by hour: \",temperatures_C)\n",
    "# now , we can test each condition\n",
    "# a. More than 4 temperatures are greater than or equal to 70ºC\n",
    "high_temp_counter = 0\n",
    "for x in temperatures_C:\n",
    "    if x >= 70:\n",
    "        high_temp_counter += 1\n",
    "print(\"There are\",high_temp_counter,\"cases of temperatures greater or eqaul to 70ºC\")\n",
    "print(\"Therefor, condition A is met (high_temp_counter > 4). \")\n",
    "print(\"The A.C needs to be changed.\")\n",
    "# we can continue testing - even though we already know we need to change the system\n",
    "# b. Any temperature is above 80ºC.\n",
    "high_temp_counter = 0\n",
    "for x in temperatures_C:\n",
    "    if x > 80:\n",
    "        high_temp_counter += 1\n",
    "print(\"There are\",high_temp_counter,\"cases of temperatures greater than 80ºC\")\n",
    "print(\"Therefor, condition B is met (high_temp_counter > 0). \")\n",
    "print(\"The A.C needs to be changed.\")\n",
    "# c. The average temperature exceeds 65ºC.\n",
    "avg_temp = statistics.mean(temperatures_C)\n",
    "print(\"The avrage temperature is: \", avg_temp)\n",
    "print(\"Therefor, condition C is NOT met (avg. temp > 65). \")\n",
    "print(\"However, The A.C still needs to be changed because of conditions A + B.\")\n",
    "\n"
   ]
  },
  {
   "cell_type": "markdown",
   "metadata": {},
   "source": [
    "## Bonus\n",
    "\n",
    "The company has decided that the decision you made is not valid. They want you to analyze the data again but this time, the conditions that need to be met in order to change the cooling system are different.\n",
    "\n",
    "This time, if one of the following events occurs, then the cooling system needs to be replaced:\n",
    "* The temperature is greater than 70ºC during more than 4 consecutive hours.\n",
    "* Any temperature is above 80ºC.\n",
    "* The average temperature exceeds 65ºC.\n",
    "\n",
    "Follow the steps so that you can make the decision.\n",
    "\n",
    "#### 1. Create a list with the hours where the temperature is greater than 70ºC. Store it in a variable."
   ]
  },
  {
   "cell_type": "code",
   "execution_count": 47,
   "metadata": {},
   "outputs": [
    {
     "name": "stdout",
     "output_type": "stream",
     "text": [
      "At these hours the temperature is greater than 70ºC:  [9, 10, 11, 12, 13, 14, 15]\n"
     ]
    }
   ],
   "source": [
    "#print(temperatures_C)\n",
    "hours_over_70c = []\n",
    "for i, x in enumerate(temperatures_C):\n",
    "    if x > 70:\n",
    "        hours_over_70c.append(i)\n",
    "print(\"At these hours the temperature is greater than 70ºC: \", hours_over_70c)"
   ]
  },
  {
   "cell_type": "markdown",
   "metadata": {},
   "source": [
    "#### 2. Check if the list you created in step 1 has more than 4 consecutive hours. "
   ]
  },
  {
   "cell_type": "code",
   "execution_count": 65,
   "metadata": {},
   "outputs": [
    {
     "name": "stdout",
     "output_type": "stream",
     "text": [
      "The number of consecutive hours when temp > 70ºC is:  6\n",
      "Therefor, condition A is met (consecutive_hours > 4)\n"
     ]
    }
   ],
   "source": [
    "consecutive_hours = 0\n",
    "#print(len(hours_over_70c))\n",
    "i = 0\n",
    "while i < len(hours_over_70c) - 1:\n",
    "    #print(\"in\")\n",
    "    if hours_over_70c[i + 1] == hours_over_70c[i] + 1:\n",
    "        consecutive_hours += 1\n",
    "    else:\n",
    "        consecutive_hours = 0\n",
    "    i += 1\n",
    "print(\"The number of consecutive hours when temp > 70ºC is: \", consecutive_hours)\n",
    "print(\"Therefor, condition A is met (consecutive_hours > 4)\") "
   ]
  },
  {
   "cell_type": "markdown",
   "metadata": {},
   "source": [
    "#### 3. Make the decision!\n",
    "To make your decision, check if any of the three conditions is met. Print a message to show if the cooling system needs to be changed or not."
   ]
  },
  {
   "cell_type": "code",
   "execution_count": 66,
   "metadata": {},
   "outputs": [
    {
     "name": "stdout",
     "output_type": "stream",
     "text": [
      "The A.C needs to be changed.\n"
     ]
    }
   ],
   "source": [
    "# we already know that condition B is met(high_temp_counter > 0)\n",
    "# and that condition C is NOT met (avg. temp > 65).\n",
    "# This means we have 2 / 3 conditions met (A + B) - which is more the minimum of 1/3 \n",
    "print(\"The A.C needs to be changed.\")"
   ]
  },
  {
   "cell_type": "markdown",
   "metadata": {},
   "source": [
    "#### 4. Find the average value of the temperature lists (ºC and ºF). What is the relation between both average values?"
   ]
  },
  {
   "cell_type": "code",
   "execution_count": 71,
   "metadata": {},
   "outputs": [
    {
     "name": "stdout",
     "output_type": "stream",
     "text": [
      "the avrage temprature in ºC is:  62.833333333333336\n",
      "the avrage temprature in ºF is:  145.1\n",
      "If we would have converted mean ºC to ºF, we would get:  145.10000000000002\n",
      "Mean that converting the whole data set, and then calculating the mean is \n",
      " the same as converting just the single mean C result \n"
     ]
    }
   ],
   "source": [
    "print(\"the avrage temprature in ºC is: \", statistics.mean(temperatures_C))\n",
    "print(\"the avrage temprature in ºF is: \", statistics.mean(fahrenheit_temp))\n",
    "# conversion Formula:\n",
    "# 𝐹=1.8∗𝐶+32\n",
    "print(\"If we would have converted mean ºC to ºF, we would get: \", 1.8*(statistics.mean(temperatures_C)) + 32)\n",
    "print(\"Mean that converting the whole data set, and then calculating the mean is \\n the same as converting just the single mean C result \")"
   ]
  },
  {
   "cell_type": "markdown",
   "metadata": {},
   "source": [
    "#### 5. Find the standard deviation of the temperature lists (ºC and ºF). What is the relation between both standard deviations?"
   ]
  },
  {
   "cell_type": "code",
   "execution_count": 74,
   "metadata": {},
   "outputs": [
    {
     "name": "stdout",
     "output_type": "stream",
     "text": [
      "the standard deviation of the temprature in ºC is:  14.94821980579356\n",
      "the standard deviation of the temprature in ºF is:  26.906795650428407\n",
      "We can see that converting a data set to higher values, even while keeping the same relations \n",
      " will result in a higher standart deviation\n"
     ]
    }
   ],
   "source": [
    "print(\"the standard deviation of the temprature in ºC is: \", statistics.stdev(temperatures_C))\n",
    "print(\"the standard deviation of the temprature in ºF is: \", statistics.stdev(fahrenheit_temp))\n",
    "print(\"We can see that converting a data set to higher values, even while keeping the same relations \\n will result in a higher standart deviation\")\n",
    "\n"
   ]
  },
  {
   "cell_type": "code",
   "execution_count": null,
   "metadata": {},
   "outputs": [],
   "source": []
  }
 ],
 "metadata": {
  "kernelspec": {
   "display_name": "Python 3",
   "language": "python",
   "name": "python3"
  },
  "language_info": {
   "codemirror_mode": {
    "name": "ipython",
    "version": 3
   },
   "file_extension": ".py",
   "mimetype": "text/x-python",
   "name": "python",
   "nbconvert_exporter": "python",
   "pygments_lexer": "ipython3",
   "version": "3.8.3"
  }
 },
 "nbformat": 4,
 "nbformat_minor": 2
}
