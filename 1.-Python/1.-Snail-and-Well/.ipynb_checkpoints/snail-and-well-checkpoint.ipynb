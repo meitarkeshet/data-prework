{
 "cells": [
  {
   "cell_type": "markdown",
   "metadata": {},
   "source": [
    "<img src=\"https://bit.ly/2VnXWr2\" width=\"100\" align=\"left\">"
   ]
  },
  {
   "cell_type": "markdown",
   "metadata": {},
   "source": [
    "# The Snail and the Well\n",
    "\n",
    "A snail falls at the bottom of a 125 cm well. Each day the snail rises 30 cm. But at night, while sleeping, slides 20 cm because the walls are wet. How many days does it take for the snail to escape the well?\n",
    "\n",
    "**Hint**: The snail gets out of the well when it surpasses the 125cm of height.\n",
    "\n",
    "## Tools\n",
    "\n",
    "1. Loop: **while**\n",
    "2. Conditional statements: **if-else**\n",
    "3. Function: **print()**\n",
    "\n",
    "## Tasks\n",
    "\n",
    "#### 1. Assign the challenge data to variables with representative names: `well_height`, `daily_distance`, `nightly_distance` and `snail_position`."
   ]
  },
  {
   "cell_type": "code",
   "execution_count": 13,
   "metadata": {},
   "outputs": [],
   "source": [
    "# def wanted condition  \n",
    "well_height = 125\n",
    "\n",
    "# def movment \n",
    "daily_distance = 30\n",
    "nightly_distance = -20\n",
    "snail_position = 0"
   ]
  },
  {
   "cell_type": "markdown",
   "metadata": {},
   "source": [
    "#### 2. Create a variable `days` to keep count of the days that pass until the snail escapes the well. "
   ]
  },
  {
   "cell_type": "code",
   "execution_count": 14,
   "metadata": {},
   "outputs": [],
   "source": [
    "# def time past\n",
    "days = 0"
   ]
  },
  {
   "cell_type": "markdown",
   "metadata": {},
   "source": [
    "#### 3. Find the solution to the challenge using the variables defined above. "
   ]
  },
  {
   "cell_type": "code",
   "execution_count": 15,
   "metadata": {
    "scrolled": true
   },
   "outputs": [
    {
     "name": "stdout",
     "output_type": "stream",
     "text": [
      "snail position after day = 30\n",
      "day count = 1\n",
      "snail position after night = 10\n",
      "snail position after day = 40\n",
      "day count = 2\n",
      "snail position after night = 20\n",
      "snail position after day = 50\n",
      "day count = 3\n",
      "snail position after night = 30\n",
      "snail position after day = 60\n",
      "day count = 4\n",
      "snail position after night = 40\n",
      "snail position after day = 70\n",
      "day count = 5\n",
      "snail position after night = 50\n",
      "snail position after day = 80\n",
      "day count = 6\n",
      "snail position after night = 60\n",
      "snail position after day = 90\n",
      "day count = 7\n",
      "snail position after night = 70\n",
      "snail position after day = 100\n",
      "day count = 8\n",
      "snail position after night = 80\n",
      "snail position after day = 110\n",
      "day count = 9\n",
      "snail position after night = 90\n",
      "snail position after day = 120\n",
      "day count = 10\n",
      "snail position after night = 100\n",
      "snail position after day = 130\n",
      "day count = 11\n"
     ]
    }
   ],
   "source": [
    "while snail_position < well_height:\n",
    "    snail_position += daily_distance\n",
    "    # print(\"snail position after day = \" + str(snail_position))\n",
    "    days += 1\n",
    "    # print(\"day count = \" + str(days))\n",
    "    if snail_position > well_height:\n",
    "        break\n",
    "    snail_position += nightly_distance\n",
    "    # print(\"snail position after night = \" + str(snail_position))\n"
   ]
  },
  {
   "cell_type": "markdown",
   "metadata": {},
   "source": [
    "#### 4. Print the solution."
   ]
  },
  {
   "cell_type": "code",
   "execution_count": 16,
   "metadata": {
    "scrolled": false
   },
   "outputs": [
    {
     "name": "stdout",
     "output_type": "stream",
     "text": [
      "11\n"
     ]
    }
   ],
   "source": [
    "print(days)"
   ]
  },
  {
   "cell_type": "markdown",
   "metadata": {},
   "source": [
    "## Bonus\n",
    "The distance traveled by the snail each day is now defined by a list.\n",
    "```\n",
    "advance_cm = [30, 21, 33, 77, 44, 45, 23, 45, 12, 34, 55]\n",
    "```\n",
    "On the first day, the snail rises 30cm but during the night it slides 20cm. On the second day, the snail rises 21cm but during the night it slides 20cm, and so on. \n",
    "\n",
    "#### 1. How many days does it take for the snail to escape the well?\n",
    "Follow the same guidelines as in the previous challenge.\n",
    "\n",
    "**Hint**: Remember that the snail gets out of the well when it surpasses the 125cm of height."
   ]
  },
  {
   "cell_type": "code",
   "execution_count": 7,
   "metadata": {},
   "outputs": [
    {
     "name": "stdout",
     "output_type": "stream",
     "text": [
      "6\n"
     ]
    }
   ],
   "source": [
    "# def wanted condition  \n",
    "well_height = 125\n",
    "\n",
    "# def movment \n",
    "advance_cm = [30, 21, 33, 77, 44, 45, 23, 45, 12, 34, 55]\n",
    "listIndex = 0 \n",
    "nightly_distance = -20\n",
    "snail_position = 0\n",
    "\n",
    "# def time past\n",
    "days = 0\n",
    "\n",
    "# def list of displacements \n",
    "displace = []\n",
    "\n",
    "while snail_position < well_height:\n",
    "    snail_position += advance_cm[listIndex]\n",
    "    displace.append(advance_cm[listIndex] + nightly_distance)\n",
    "    #print(\"snail position after day = \" + str(snail_position))\n",
    "    days += 1\n",
    "    # print(\"day count = \" + str(days))\n",
    "    listIndex += 1\n",
    "    #print(listIndex)\n",
    "    if snail_position > well_height:\n",
    "        break\n",
    "    snail_position += nightly_distance\n",
    "    #print(\"snail position after night = \" + str(snail_position))\n",
    "print(days)\n"
   ]
  },
  {
   "cell_type": "markdown",
   "metadata": {},
   "source": [
    "#### 2. What is its maximum displacement in one day? And its minimum? Calculate the displacement using only the travel distance of the days used to get out of the well. \n",
    "**Hint**: Remember that displacement means the total distance risen taking into account that the snail slides at night.  "
   ]
  },
  {
   "cell_type": "code",
   "execution_count": 11,
   "metadata": {},
   "outputs": [
    {
     "name": "stdout",
     "output_type": "stream",
     "text": [
      "Displacement by day:   [10, 1, 13, 57, 24, 25]\n",
      "Max daily displacement:   57\n",
      "Min daily displacement:   1\n"
     ]
    }
   ],
   "source": [
    "print(\"Displacement by day:  \", displace)\n",
    "print(\"Max daily displacement:  \",max(displace))\n",
    "print(\"Min daily displacement:  \",min(displace))"
   ]
  },
  {
   "cell_type": "markdown",
   "metadata": {},
   "source": [
    "#### 3. What is its average progress? Take into account the snail slides at night."
   ]
  },
  {
   "cell_type": "code",
   "execution_count": 17,
   "metadata": {},
   "outputs": [
    {
     "name": "stdout",
     "output_type": "stream",
     "text": [
      "The avrage daily progress (before exiting the well):   21.666666666666668\n",
      "The avrage daily progress (before exiting the well):   21.666666666666668\n"
     ]
    }
   ],
   "source": [
    "# Using mean() \n",
    "# importing mean() \n",
    "\n",
    "from statistics import mean \n",
    "print(\"The avrage daily progress (before exiting the well):  \", mean(displace))\n",
    "\n",
    "# using sum / lentgh\n",
    "print(\"The avrage daily progress (before exiting the well):  \", (sum(displace) / len(displace)))"
   ]
  },
  {
   "cell_type": "markdown",
   "metadata": {},
   "source": [
    "#### 4. What is the standard deviation of its displacement? Take into account the snail slides at night."
   ]
  },
  {
   "cell_type": "code",
   "execution_count": 26,
   "metadata": {},
   "outputs": [
    {
     "name": "stdout",
     "output_type": "stream",
     "text": [
      "The standart deviation of displacement(before exiting the well) is:   17.81073334319006\n",
      "The standart deviation of displacement(before exiting the well) is:   19.510680835549195\n"
     ]
    }
   ],
   "source": [
    "\"\"\"\n",
    "Notice the difference between the results!\n",
    "\"\"\"\n",
    "# using numpy\n",
    "import numpy \n",
    "print(\"The standart deviation of displacement(before exiting the well) is:  \", numpy.std(displace))\n",
    "\n",
    "# using statistics \n",
    "import statistics \n",
    "print(\"The standart deviation of displacement(before exiting the well) is:  \", statistics.stdev(displace))\n"
   ]
  },
  {
   "cell_type": "code",
   "execution_count": null,
   "metadata": {},
   "outputs": [],
   "source": []
  }
 ],
 "metadata": {
  "kernelspec": {
   "display_name": "Python 3",
   "language": "python",
   "name": "python3"
  },
  "language_info": {
   "codemirror_mode": {
    "name": "ipython",
    "version": 3
   },
   "file_extension": ".py",
   "mimetype": "text/x-python",
   "name": "python",
   "nbconvert_exporter": "python",
   "pygments_lexer": "ipython3",
   "version": "3.8.3"
  }
 },
 "nbformat": 4,
 "nbformat_minor": 2
}
